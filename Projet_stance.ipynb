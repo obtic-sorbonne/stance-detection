{
 "cells": [
  {
   "cell_type": "markdown",
   "id": "6807d8f6-0892-4938-b9a3-2bcf43f97304",
   "metadata": {},
   "source": [
    "\n",
    "# PARNASSE ROMARIC STANCE DETECTION"
   ]
  },
  {
   "cell_type": "markdown",
   "id": "22636a07-1514-4902-bc40-1753f597d8e2",
   "metadata": {},
   "source": [
    "<p style=\"text-align:center; text-transform:uppercase;\">Bibliothèque utilisé lors de ce stage</p>"
   ]
  },
  {
   "cell_type": "code",
   "execution_count": 1,
   "id": "34149596-5cf0-4026-a992-e1fac911ad27",
   "metadata": {},
   "outputs": [
    {
     "name": "stderr",
     "output_type": "stream",
     "text": [
      "/var/folders/pv/fql_h__s6_j6_jjpd2gr9kk40000gn/T/ipykernel_28205/4191622482.py:2: DeprecationWarning: \n",
      "Pyarrow will become a required dependency of pandas in the next major release of pandas (pandas 3.0),\n",
      "(to allow more performant data types, such as the Arrow string type, and better interoperability with other libraries)\n",
      "but was not found to be installed on your system.\n",
      "If this would cause problems for you,\n",
      "please provide us feedback at https://github.com/pandas-dev/pandas/issues/54466\n",
      "        \n",
      "  import pandas as pd\n"
     ]
    },
    {
     "ename": "ModuleNotFoundError",
     "evalue": "No module named 'seaborn'",
     "output_type": "error",
     "traceback": [
      "\u001b[0;31m---------------------------------------------------------------------------\u001b[0m",
      "\u001b[0;31mModuleNotFoundError\u001b[0m                       Traceback (most recent call last)",
      "Cell \u001b[0;32mIn[1], line 3\u001b[0m\n\u001b[1;32m      1\u001b[0m \u001b[38;5;66;03m#!pip install --upgrade pandas\u001b[39;00m\n\u001b[1;32m      2\u001b[0m \u001b[38;5;28;01mimport\u001b[39;00m \u001b[38;5;21;01mpandas\u001b[39;00m \u001b[38;5;28;01mas\u001b[39;00m \u001b[38;5;21;01mpd\u001b[39;00m\n\u001b[0;32m----> 3\u001b[0m \u001b[38;5;28;01mimport\u001b[39;00m \u001b[38;5;21;01mseaborn\u001b[39;00m \u001b[38;5;28;01mas\u001b[39;00m \u001b[38;5;21;01msns\u001b[39;00m\n\u001b[1;32m      4\u001b[0m \u001b[38;5;28;01mimport\u001b[39;00m \u001b[38;5;21;01mmatplotlib\u001b[39;00m\u001b[38;5;21;01m.\u001b[39;00m\u001b[38;5;21;01mpyplot\u001b[39;00m \u001b[38;5;28;01mas\u001b[39;00m \u001b[38;5;21;01mplt\u001b[39;00m\n\u001b[1;32m      5\u001b[0m \u001b[38;5;28;01mimport\u001b[39;00m \u001b[38;5;21;01mos\u001b[39;00m\n",
      "\u001b[0;31mModuleNotFoundError\u001b[0m: No module named 'seaborn'"
     ]
    }
   ],
   "source": [
    "#!pip install --upgrade pandas\n",
    "import pandas as pd\n",
    "import seaborn as sns\n",
    "import matplotlib.pyplot as plt\n",
    "import os\n",
    "import nltk\n",
    "import groq\n",
    "from tqdm import tqdm\n",
    "#key=votre key\n",
    "import torch\n",
    "import transformers\n",
    "from transformers import RobertaTokenizer, RobertaModel\n",
    "from sklearn.metrics.pairwise import cosine_similarity\n",
    "from sklearn.model_selection import train_test_split\n",
    "from transformers import pipeline"
   ]
  },
  {
   "cell_type": "markdown",
   "id": "e942b1a5-75ba-4583-a240-66a7d3b4d9b9",
   "metadata": {},
   "source": [
    "Chargement des données(***en bloc***) dans un data frame chaque ligne corespond à chaque commentaire\n",
    "Sous le format ID,DATE,GENRE,TEXT\n"
   ]
  },
  {
   "cell_type": "code",
   "execution_count": 23,
   "id": "2c63c6f7-b162-4a27-be82-4a6bced18a53",
   "metadata": {},
   "outputs": [],
   "source": [
    "data = pd.DataFrame(columns=['id', 'date', 'genre'])\n",
    "\n",
    "# Parcourir les fichiers de 1 à 2299\n",
    "for i in range(1, 2300):\n",
    "    filename = f\"{i}.txt\"\n",
    "    with open(filename, \"r\") as file:\n",
    "        # Lire les lignes\n",
    "        lines = file.readlines()\n",
    "        # Extraire les informations\n",
    "        text = lines[2].strip()\n",
    "        genre = lines[1].strip()\n",
    "        date = lines[0].strip()\n",
    "        \n",
    "        \n",
    "\n",
    "        # Créer un nouveau DataFrame avec une ligne\n",
    "        new_data = pd.DataFrame([{'id': i, 'text': text,'date': date, 'genre': genre}])\n",
    "\n",
    "        # Concaténer les deux DataFrames\n",
    "        data = pd.concat([data, new_data], ignore_index=True)\n",
    "\n",
    "data['pre_target']=None\n",
    "data['pre_granualité']=None\n",
    "data.to_csv('DataSet.entier.csv')"
   ]
  },
  {
   "cell_type": "code",
   "execution_count": 24,
   "id": "3837c8d8-8317-4a0f-868c-9d22726f9674",
   "metadata": {},
   "outputs": [
    {
     "data": {
      "text/html": [
       "<div>\n",
       "<style scoped>\n",
       "    .dataframe tbody tr th:only-of-type {\n",
       "        vertical-align: middle;\n",
       "    }\n",
       "\n",
       "    .dataframe tbody tr th {\n",
       "        vertical-align: top;\n",
       "    }\n",
       "\n",
       "    .dataframe thead th {\n",
       "        text-align: right;\n",
       "    }\n",
       "</style>\n",
       "<table border=\"1\" class=\"dataframe\">\n",
       "  <thead>\n",
       "    <tr style=\"text-align: right;\">\n",
       "      <th></th>\n",
       "      <th>id</th>\n",
       "      <th>date</th>\n",
       "      <th>genre</th>\n",
       "      <th>text</th>\n",
       "      <th>pre_target</th>\n",
       "      <th>pre_granualité</th>\n",
       "    </tr>\n",
       "  </thead>\n",
       "  <tbody>\n",
       "    <tr>\n",
       "      <th>0</th>\n",
       "      <td>1</td>\n",
       "      <td>20/02/2020</td>\n",
       "      <td>Femme</td>\n",
       "      <td>Ma garde au samu social à été très enrichissan...</td>\n",
       "      <td>None</td>\n",
       "      <td>None</td>\n",
       "    </tr>\n",
       "    <tr>\n",
       "      <th>1</th>\n",
       "      <td>2</td>\n",
       "      <td>18/02/2020</td>\n",
       "      <td>Femme</td>\n",
       "      <td>A propos de la double écoute, j’étais placé au...</td>\n",
       "      <td>None</td>\n",
       "      <td>None</td>\n",
       "    </tr>\n",
       "    <tr>\n",
       "      <th>2</th>\n",
       "      <td>3</td>\n",
       "      <td>13/02/2020</td>\n",
       "      <td>Femme</td>\n",
       "      <td>Expérience très enrichissante pour une/une fut...</td>\n",
       "      <td>None</td>\n",
       "      <td>None</td>\n",
       "    </tr>\n",
       "    <tr>\n",
       "      <th>3</th>\n",
       "      <td>4</td>\n",
       "      <td>12/02/2020</td>\n",
       "      <td>Femme</td>\n",
       "      <td>J'arrive au Samu social et me retrouve face à ...</td>\n",
       "      <td>None</td>\n",
       "      <td>None</td>\n",
       "    </tr>\n",
       "    <tr>\n",
       "      <th>4</th>\n",
       "      <td>5</td>\n",
       "      <td>12/02/2020</td>\n",
       "      <td>Homme</td>\n",
       "      <td>J'ai trouvé cette expérience très enrichissant...</td>\n",
       "      <td>None</td>\n",
       "      <td>None</td>\n",
       "    </tr>\n",
       "    <tr>\n",
       "      <th>...</th>\n",
       "      <td>...</td>\n",
       "      <td>...</td>\n",
       "      <td>...</td>\n",
       "      <td>...</td>\n",
       "      <td>...</td>\n",
       "      <td>...</td>\n",
       "    </tr>\n",
       "    <tr>\n",
       "      <th>2294</th>\n",
       "      <td>2295</td>\n",
       "      <td>22/05/2011</td>\n",
       "      <td>Homme</td>\n",
       "      <td>Initialement, j'étais assez sceptique par rapp...</td>\n",
       "      <td>None</td>\n",
       "      <td>None</td>\n",
       "    </tr>\n",
       "    <tr>\n",
       "      <th>2295</th>\n",
       "      <td>2296</td>\n",
       "      <td>20/05/2011</td>\n",
       "      <td>Femme</td>\n",
       "      <td>Ce fut une nuit très mouvementée, et éprouvant...</td>\n",
       "      <td>None</td>\n",
       "      <td>None</td>\n",
       "    </tr>\n",
       "    <tr>\n",
       "      <th>2296</th>\n",
       "      <td>2297</td>\n",
       "      <td>17/05/2011</td>\n",
       "      <td>Femme</td>\n",
       "      <td>Ce qui m'a marqué en premier lieu c'est de voi...</td>\n",
       "      <td>None</td>\n",
       "      <td>None</td>\n",
       "    </tr>\n",
       "    <tr>\n",
       "      <th>2297</th>\n",
       "      <td>2298</td>\n",
       "      <td>13/05/2011</td>\n",
       "      <td>Homme</td>\n",
       "      <td>La Garde au SAMU SOCIAL de Paris a été l’une d...</td>\n",
       "      <td>None</td>\n",
       "      <td>None</td>\n",
       "    </tr>\n",
       "    <tr>\n",
       "      <th>2298</th>\n",
       "      <td>2299</td>\n",
       "      <td>13/05/2011</td>\n",
       "      <td>Femme</td>\n",
       "      <td>En arrivant à 18h j'ai été très bien accueilli...</td>\n",
       "      <td>None</td>\n",
       "      <td>None</td>\n",
       "    </tr>\n",
       "  </tbody>\n",
       "</table>\n",
       "<p>2299 rows × 6 columns</p>\n",
       "</div>"
      ],
      "text/plain": [
       "        id        date  genre  \\\n",
       "0        1  20/02/2020  Femme   \n",
       "1        2  18/02/2020  Femme   \n",
       "2        3  13/02/2020  Femme   \n",
       "3        4  12/02/2020  Femme   \n",
       "4        5  12/02/2020  Homme   \n",
       "...    ...         ...    ...   \n",
       "2294  2295  22/05/2011  Homme   \n",
       "2295  2296  20/05/2011  Femme   \n",
       "2296  2297  17/05/2011  Femme   \n",
       "2297  2298  13/05/2011  Homme   \n",
       "2298  2299  13/05/2011  Femme   \n",
       "\n",
       "                                                   text pre_target  \\\n",
       "0     Ma garde au samu social à été très enrichissan...       None   \n",
       "1     A propos de la double écoute, j’étais placé au...       None   \n",
       "2     Expérience très enrichissante pour une/une fut...       None   \n",
       "3     J'arrive au Samu social et me retrouve face à ...       None   \n",
       "4     J'ai trouvé cette expérience très enrichissant...       None   \n",
       "...                                                 ...        ...   \n",
       "2294  Initialement, j'étais assez sceptique par rapp...       None   \n",
       "2295  Ce fut une nuit très mouvementée, et éprouvant...       None   \n",
       "2296  Ce qui m'a marqué en premier lieu c'est de voi...       None   \n",
       "2297  La Garde au SAMU SOCIAL de Paris a été l’une d...       None   \n",
       "2298  En arrivant à 18h j'ai été très bien accueilli...       None   \n",
       "\n",
       "     pre_granualité  \n",
       "0              None  \n",
       "1              None  \n",
       "2              None  \n",
       "3              None  \n",
       "4              None  \n",
       "...             ...  \n",
       "2294           None  \n",
       "2295           None  \n",
       "2296           None  \n",
       "2297           None  \n",
       "2298           None  \n",
       "\n",
       "[2299 rows x 6 columns]"
      ]
     },
     "execution_count": 24,
     "metadata": {},
     "output_type": "execute_result"
    }
   ],
   "source": [
    "data"
   ]
  },
  {
   "cell_type": "markdown",
   "id": "d9a5b0e0-7319-441b-8355-b59c109015fd",
   "metadata": {},
   "source": [
    "Chargement des données(***par phrase***) dans un data frame chaque ligne corespond à chaque commentaire.\n",
    "Sous le format ID,DATE,GENRE,TEXT"
   ]
  },
  {
   "cell_type": "code",
   "execution_count": 29,
   "id": "102aea2b-fb01-4157-957c-6f0327fdc081",
   "metadata": {},
   "outputs": [
    {
     "name": "stderr",
     "output_type": "stream",
     "text": [
      "[nltk_data] Downloading package punkt to /Users/ippo/nltk_data...\n",
      "[nltk_data]   Package punkt is already up-to-date!\n"
     ]
    },
    {
     "name": "stdout",
     "output_type": "stream",
     "text": [
      "13756\n"
     ]
    }
   ],
   "source": [
    "#J'ai ajouté les id des bloc pour pouvoir les retrouver quand cela sera nécéssaire \n",
    "# Téléchargez les ressources nécessaires pour tokenizer les phrases\n",
    "nltk.download('punkt')\n",
    "\n",
    "# Créez une liste vide pour stocker les données de chaque fichier\n",
    "all_data = []\n",
    "\n",
    "for i in range(1, 2300):\n",
    "    # Utilisez la fonction format() pour créer le nom du fichier à partir du nombre i\n",
    "    filename = \"{}.txt\".format(i)\n",
    "    \n",
    "    # Vérifiez si le fichier existe avant d'essayer de l'ouvrir\n",
    "    if os.path.exists(filename):\n",
    "        with open(filename, \"r\") as f:\n",
    "            # Lisez la date et le genre\n",
    "            date = f.readline().strip()\n",
    "            genre = f.readline().strip()\n",
    "            # Lisez les commentaires restants\n",
    "            text = f.read().strip()\n",
    "            \n",
    "            # Utilisez nltk pour diviser le texte en phrases\n",
    "            sentences = nltk.sent_tokenize(text)\n",
    "            \n",
    "            # Créez un dictionnaire pour chaque phrase\n",
    "            for sentence in sentences:\n",
    "                data_dict = {\"date\": date, \"genre\": genre, \"text\": sentence, \"Id_bloc\": i}\n",
    "                all_data.append(data_dict)\n",
    "\n",
    "# Une fois que tous les fichiers ont été traités et que les données ont été stockées dans la liste all_data\n",
    "# On crée le DataFrame en conséquent \n",
    "df_phrase = pd.DataFrame(all_data)\n",
    "\n",
    "# On formate au format standard de date\n",
    "try:\n",
    "    df[\"date\"] = pd.to_datetime(df[\"date\"], format=\"%d/%m/%Y\")\n",
    "except ValueError as e:\n",
    "    print(f\"Erreur de conversion de date : {e}\")\n",
    "    # Gérez l'erreur comme nécessaire, par exemple en remplaçant les dates incorrectes par NaT\n",
    "    df[\"date\"] = pd.to_datetime(df[\"date\"], errors='coerce', format=\"%d/%m/%Y\")\n",
    "\n",
    "# On transforme la colonne genre en str\n",
    "df_phrase[\"genre\"] = df_phrase[\"genre\"].astype(str)\n",
    "\n",
    "# Créez une série de nombres entiers à partir de 0 pour les IDs\n",
    "df_phrase[\"id\"] = range(len(df))\n",
    "\n",
    "# Réorganisez les colonnes du DataFrame\n",
    "df_phrase = df_phrase[[\"id\", \"genre\", \"text\", \"date\", \"Id_bloc\"]]\n",
    "\n",
    "# Affichez les premières lignes pour vérifier\n",
    "print(len(df_phrase))\n",
    "\n",
    "# Sauvegardez le DataFrame dans un fichier CSV\n",
    "df_phrase['pre_annot']=None\n",
    "df_phrase['granualité']=None\n",
    "df_phrase.to_csv(\"DataSet_phrase_entier.csv\", index=False)"
   ]
  },
  {
   "cell_type": "code",
   "execution_count": 49,
   "id": "ce978dd9-3d5c-4e37-8103-6e4e4f349765",
   "metadata": {},
   "outputs": [
    {
     "data": {
      "text/html": [
       "<div>\n",
       "<style scoped>\n",
       "    .dataframe tbody tr th:only-of-type {\n",
       "        vertical-align: middle;\n",
       "    }\n",
       "\n",
       "    .dataframe tbody tr th {\n",
       "        vertical-align: top;\n",
       "    }\n",
       "\n",
       "    .dataframe thead th {\n",
       "        text-align: right;\n",
       "    }\n",
       "</style>\n",
       "<table border=\"1\" class=\"dataframe\">\n",
       "  <thead>\n",
       "    <tr style=\"text-align: right;\">\n",
       "      <th></th>\n",
       "      <th>id</th>\n",
       "      <th>genre</th>\n",
       "      <th>text</th>\n",
       "      <th>date</th>\n",
       "      <th>Id_bloc</th>\n",
       "      <th>pre_annot</th>\n",
       "      <th>granualité</th>\n",
       "    </tr>\n",
       "  </thead>\n",
       "  <tbody>\n",
       "    <tr>\n",
       "      <th>8513</th>\n",
       "      <td>8513</td>\n",
       "      <td>Homme</td>\n",
       "      <td>Cette nuit nous confronte à la solitude des pe...</td>\n",
       "      <td>07/12/2014</td>\n",
       "      <td>1415</td>\n",
       "      <td>None</td>\n",
       "      <td>None</td>\n",
       "    </tr>\n",
       "    <tr>\n",
       "      <th>4215</th>\n",
       "      <td>4215</td>\n",
       "      <td>Femme</td>\n",
       "      <td>Comme son nom l'indique, on s'axe sur le socia...</td>\n",
       "      <td>23/06/2017</td>\n",
       "      <td>717</td>\n",
       "      <td>None</td>\n",
       "      <td>None</td>\n",
       "    </tr>\n",
       "    <tr>\n",
       "      <th>2018</th>\n",
       "      <td>2018</td>\n",
       "      <td>Femme</td>\n",
       "      <td>J'ai été très bien intégrée par l'équipe que j...</td>\n",
       "      <td>19/09/2018</td>\n",
       "      <td>333</td>\n",
       "      <td>None</td>\n",
       "      <td>None</td>\n",
       "    </tr>\n",
       "    <tr>\n",
       "      <th>8121</th>\n",
       "      <td>8121</td>\n",
       "      <td>Femme</td>\n",
       "      <td>L'expérience qui m'a le plus marquée est la re...</td>\n",
       "      <td>02/03/2015</td>\n",
       "      <td>1338</td>\n",
       "      <td>None</td>\n",
       "      <td>None</td>\n",
       "    </tr>\n",
       "    <tr>\n",
       "      <th>3902</th>\n",
       "      <td>3902</td>\n",
       "      <td>Homme</td>\n",
       "      <td>Les équipes sont très adaptés au différentes s...</td>\n",
       "      <td>09/08/2017</td>\n",
       "      <td>654</td>\n",
       "      <td>None</td>\n",
       "      <td>None</td>\n",
       "    </tr>\n",
       "    <tr>\n",
       "      <th>...</th>\n",
       "      <td>...</td>\n",
       "      <td>...</td>\n",
       "      <td>...</td>\n",
       "      <td>...</td>\n",
       "      <td>...</td>\n",
       "      <td>...</td>\n",
       "      <td>...</td>\n",
       "    </tr>\n",
       "    <tr>\n",
       "      <th>5191</th>\n",
       "      <td>5191</td>\n",
       "      <td>Homme</td>\n",
       "      <td>- Beaucoup de très très bonnes choses dans le ...</td>\n",
       "      <td>23/10/2016</td>\n",
       "      <td>875</td>\n",
       "      <td>None</td>\n",
       "      <td>None</td>\n",
       "    </tr>\n",
       "    <tr>\n",
       "      <th>13418</th>\n",
       "      <td>13418</td>\n",
       "      <td>Homme</td>\n",
       "      <td>Cette garde s'est avérée très intéressante : e...</td>\n",
       "      <td>26/07/2011</td>\n",
       "      <td>2253</td>\n",
       "      <td>None</td>\n",
       "      <td>None</td>\n",
       "    </tr>\n",
       "    <tr>\n",
       "      <th>5390</th>\n",
       "      <td>5390</td>\n",
       "      <td>Femme</td>\n",
       "      <td>Et quand enfin ils ont une place, le lendemain...</td>\n",
       "      <td>12/09/2016</td>\n",
       "      <td>904</td>\n",
       "      <td>None</td>\n",
       "      <td>None</td>\n",
       "    </tr>\n",
       "    <tr>\n",
       "      <th>860</th>\n",
       "      <td>860</td>\n",
       "      <td>Femme</td>\n",
       "      <td>Savoir comment leur parler, comment les aborde...</td>\n",
       "      <td>27/05/2019</td>\n",
       "      <td>134</td>\n",
       "      <td>None</td>\n",
       "      <td>None</td>\n",
       "    </tr>\n",
       "    <tr>\n",
       "      <th>7270</th>\n",
       "      <td>7270</td>\n",
       "      <td>Femme</td>\n",
       "      <td>J'ai été surprise de voir la \"complicité\" entr...</td>\n",
       "      <td>28/08/2015</td>\n",
       "      <td>1188</td>\n",
       "      <td>None</td>\n",
       "      <td>None</td>\n",
       "    </tr>\n",
       "  </tbody>\n",
       "</table>\n",
       "<p>11004 rows × 7 columns</p>\n",
       "</div>"
      ],
      "text/plain": [
       "          id  genre                                               text  \\\n",
       "8513    8513  Homme  Cette nuit nous confronte à la solitude des pe...   \n",
       "4215    4215  Femme  Comme son nom l'indique, on s'axe sur le socia...   \n",
       "2018    2018  Femme  J'ai été très bien intégrée par l'équipe que j...   \n",
       "8121    8121  Femme  L'expérience qui m'a le plus marquée est la re...   \n",
       "3902    3902  Homme  Les équipes sont très adaptés au différentes s...   \n",
       "...      ...    ...                                                ...   \n",
       "5191    5191  Homme  - Beaucoup de très très bonnes choses dans le ...   \n",
       "13418  13418  Homme  Cette garde s'est avérée très intéressante : e...   \n",
       "5390    5390  Femme  Et quand enfin ils ont une place, le lendemain...   \n",
       "860      860  Femme  Savoir comment leur parler, comment les aborde...   \n",
       "7270    7270  Femme  J'ai été surprise de voir la \"complicité\" entr...   \n",
       "\n",
       "             date  Id_bloc pre_annot granualité  \n",
       "8513   07/12/2014     1415      None       None  \n",
       "4215   23/06/2017      717      None       None  \n",
       "2018   19/09/2018      333      None       None  \n",
       "8121   02/03/2015     1338      None       None  \n",
       "3902   09/08/2017      654      None       None  \n",
       "...           ...      ...       ...        ...  \n",
       "5191   23/10/2016      875      None       None  \n",
       "13418  26/07/2011     2253      None       None  \n",
       "5390   12/09/2016      904      None       None  \n",
       "860    27/05/2019      134      None       None  \n",
       "7270   28/08/2015     1188      None       None  \n",
       "\n",
       "[11004 rows x 7 columns]"
      ]
     },
     "execution_count": 49,
     "metadata": {},
     "output_type": "execute_result"
    }
   ],
   "source": [
    "# Diviser le DataFrame en deux parties 80 pour le train et 20 pour le test\n",
    "data_80, data_20 = train_test_split(data, test_size=0.2, random_state=42)\n",
    "phrase_80, phrase_20 = train_test_split(df_phrase, test_size=0.2, random_state=42)\n",
    "data_80.to_csv('DataSet_bloc_80.csv')\n",
    "data_20.to_csv('DataSet_bloc_80.csv')\n",
    "phrase_80.to_csv('DataSet_phrase_80.csv')\n",
    "phrase_20.to_csv('DataSet_bloc_20.csv')\n",
    "phrase_80"
   ]
  },
  {
   "cell_type": "markdown",
   "id": "fa7e80e8-c41c-4681-a666-e1415fd2dc66",
   "metadata": {},
   "source": [
    "Calcul de la répartition ***Homme/Femme*** au sein du campus"
   ]
  },
  {
   "cell_type": "code",
   "execution_count": 39,
   "id": "b481b377",
   "metadata": {},
   "outputs": [
    {
     "data": {
      "text/plain": [
       "(858, 1441)"
      ]
     },
     "execution_count": 39,
     "metadata": {},
     "output_type": "execute_result"
    }
   ],
   "source": [
    "def calcul_nb_hommes_femmes(df):\n",
    "    '''Fonction pour calculer le nombre de femmes/hommes'''\n",
    "    nb_hommes = 0\n",
    "    nb_femmes = 0\n",
    "    #On parcours la colonne genre\n",
    "    for genre in df[\"genre\"]:\n",
    "        if genre == \"Homme\":\n",
    "            nb_hommes += 1\n",
    "        elif genre == \"Femme\":\n",
    "            nb_femmes += 1\n",
    "            \n",
    "    return nb_hommes, nb_femmes\n",
    "    \n",
    "calcul_nb_hommes_femmes(data)"
   ]
  },
  {
   "cell_type": "code",
   "execution_count": 40,
   "id": "12537679-30f9-47df-b27b-233b7581bf7a",
   "metadata": {},
   "outputs": [
    {
     "data": {
      "image/png": "[encoded data removed]",
      "text/plain": [
       "<Figure size 640x480 with 1 Axes>"
      ]
     },
     "metadata": {},
     "output_type": "display_data"
    }
   ],
   "source": [
    "# Calculez le nombre d'hommes et de femmes dans le data frame df\n",
    "nb_hommes,nb_femmes = calcul_nb_hommes_femmes(df)\n",
    "\n",
    "# Calculez le pourcentage d'hommes et de femmes dans le data frame df\n",
    "pourcentage_hommes = (nb_hommes / (nb_hommes + nb_femmes)) * 100\n",
    "pourcentage_femmes = (nb_femmes / (nb_hommes + nb_femmes)) * 100\n",
    "\n",
    "# Créez une liste contenant le nombre d'hommes et de femmes dans le data frame df\n",
    "genre_count = [nb_hommes, nb_femmes]\n",
    "\n",
    "# Créez une liste contenant les étiquettes pour les tranches du camembert\n",
    "genre_labels = [\"hommes\", \"femmes\"]\n",
    "\n",
    "# Créez une liste contenant les couleurs pour les tranches du camembert\n",
    "genre_colors = [\"#5DADE2\", \"#F2C94C\"]\n",
    "\n",
    "# Créez un graphe en camembert de la répartition des hommes et des femmes dans le data frame df\n",
    "# en utilisant la bibliothèque seaborn et en affichant les pourcentages respectifs de chaque tranche du camembert dans le graphe\n",
    "sns.set(style=\"whitegrid\")\n",
    "ax = plt.subplot(111, aspect=\"equal\")\n",
    "ax.pie(genre_count, labels=genre_labels, colors=genre_colors, autopct=\"%1.1f%%\", startangle=90)\n",
    "ax.axis(\"off\")\n",
    "plt.title(\"Répartition des hommes et des femmes dans le jeu de donnée\", y=1.08)\n",
    "plt.show()"
   ]
  },
  {
   "cell_type": "code",
   "execution_count": 50,
   "id": "d81e9ccc-c050-40e4-af97-2ffd3ed5fbbb",
   "metadata": {
    "scrolled": true
   },
   "outputs": [
    {
     "name": "stdout",
     "output_type": "stream",
     "text": [
      "Ma garde au samu social à été très enrichissante. Positif\n"
     ]
    }
   ],
   "source": [
    "client = groq.Client(api_key='votre_key')\n",
    "chat_completion = client.chat.completions.create(\n",
    "    messages=[\n",
    "        {\n",
    "             \"role\": \"user\",\n",
    "             \"content\": f\"Tu es un modèle de classification et voici la phrase : {df_phrase.loc[0, 'text']}et voici la classification : Positif , Négatif , Neutre je veux un seul mot en guise de réponse\"\n",
    "        }\n",
    "    ],\n",
    "    model=\"llama3-70b-8192\"\n",
    ")\n",
    "print(df_phrase.loc[0, 'text'],chat_completion.choices[0].message.content)"
   ]
  },
  {
   "cell_type": "markdown",
   "id": "a890a23d-b9bc-4297-ba7b-cdf07fe49b60",
   "metadata": {},
   "source": [
    "Les modèles avce l'api dispo avec groq:\n",
    "<br>De chez ***Meta***\n",
    "</br>\"llama3-70b-8192\"\n",
    "</br>\"llama3-8b-8192\"\n",
    "</br>De chez ***Mistral***\n",
    "</br>\"mixtral-8x7b-32768\"\n",
    "</br>De chez ***Google***\n",
    "</br>\"gemma-7b-it\"\n",
    "</br>De ***OpenAi***\n",
    "</br>\"whisper-large-v3\""
   ]
  },
  {
   "cell_type": "code",
   "execution_count": null,
   "id": "3071e8e6-851a-4acd-b118-0ea49879808c",
   "metadata": {},
   "outputs": [],
   "source": [
    "client = groq.Client(api_key='votre_key')\n",
    "chat_completion = client.chat.completions.create(\n",
    "    messages=[\n",
    "        {\n",
    "             \"role\": \"user\",\n",
    "             \"content\": f\"Tu es un modèle de classification : {df_phrase.loc[2, 'text']} je veux que tu me donne la granualité de la phrase ou allant de 3 à -3 , 3 est tres positive et -3et 0 quand c'est neutre très négative je veux uniquement le résultat qui est un chiffre et rien d'autre avec aucun contexte\"\n",
    "        }\n",
    "    ],\n",
    "    model=\"llama3-70b-8192\"\n",
    ")\n",
    "print(df_phrase.loc[2, 'text'],chat_completion.choices[0].message.content)"
   ]
  },
  {
   "cell_type": "code",
   "execution_count": 58,
   "id": "e8a2339e-5912-4777-a1d3-fb97dd46bd4c",
   "metadata": {},
   "outputs": [
    {
     "name": "stdout",
     "output_type": "stream",
     "text": [
      "Je me suis rendue compte du manque de moyens. -2\n"
     ]
    }
   ],
   "source": [
    "client = groq.Client(api_key='votre_key')\n",
    "chat_completion = client.chat.completions.create(\n",
    "    messages=[\n",
    "        {\n",
    "             \"role\": \"user\",\n",
    "             \"content\": f\"Tu es un modèle de classification : {df_phrase.loc[2, 'text']} je veux que tu me donne la granualité de la phrase ou allant de 3 à -3 , 3 est tres positive et -3et 0 quand c'est neutre très négative je veux uniquement le résultat qui est un chiffre et rien d'autre avec aucun contexte\"\n",
    "        }\n",
    "    ],\n",
    "    model=\"llama3-8b-8192\"\n",
    ")\n",
    "print(df_phrase.loc[2, 'text'],chat_completion.choices[0].message.content)"
   ]
  },
  {
   "cell_type": "markdown",
   "id": "2254e03d-a69a-40b1-9ab5-94b92eca4810",
   "metadata": {},
   "source": [
    "Fonction qui renvois le nombre de changement de réponsse du modèle sur une meme phrase"
   ]
  },
  {
   "cell_type": "code",
   "execution_count": 63,
   "id": "1b5d262a-596d-46d0-98ee-957d19451136",
   "metadata": {},
   "outputs": [
    {
     "name": "stderr",
     "output_type": "stream",
     "text": [
      "Essais: 100%|███████████████████████████████████| 30/30 [00:42<00:00,  1.42s/it]"
     ]
    },
    {
     "name": "stdout",
     "output_type": "stream",
     "text": [
      "2\n"
     ]
    },
    {
     "name": "stderr",
     "output_type": "stream",
     "text": [
      "\n"
     ]
    }
   ],
   "source": [
    "def test_model(model_nom, phrase, n_iterations=30):\n",
    "    cpt = 0\n",
    "    client = groq.Client(api_key=\"votre_key\")\n",
    "\n",
    "    # Effectuer la première requête\n",
    "    chat_completion = client.chat.completions.create(\n",
    "        messages=[\n",
    "            {\n",
    "                \"role\": \"user\",\n",
    "                \"content\": f\"Tu es un modèle de classification et voici la phrase : {phrase}et voici la classification : Positif , Négatif , Neutre je veux un seul mot en guise de réponse\"\n",
    "            }\n",
    "        ],\n",
    "        model=model_nom\n",
    "    )\n",
    "    tmp = chat_completion.choices[0].message.content\n",
    "\n",
    "    # Effectuer les autres requêtes\n",
    "    for i in tqdm(range(n_iterations),desc='Essais'):\n",
    "        chat_completion = client.chat.completions.create(\n",
    "            messages=[\n",
    "                {\n",
    "                    \"role\": \"user\",\n",
    "                    \"content\": f\"Tu es un modèle de classification et voici la phrase : {phrase}et voici la classification : Positif , Négatif , Neutre je veux un seul mot en guise de réponse\"\n",
    "                }\n",
    "            ],\n",
    "            model=model_nom\n",
    "        )\n",
    "        if tmp != chat_completion.choices[0].message.content:\n",
    "            cpt += 1\n",
    "        #print(tmp)\n",
    "        #print(cpt)\n",
    "        tmp = chat_completion.choices[0].message.content\n",
    "\n",
    "    return cpt\n",
    "\n",
    "# Tester le modèle\n",
    "resultat = test_model(\"mixtral-8x7b-32768\", df_phrase.iloc[0])\n",
    "print(resultat)\n"
   ]
  },
  {
   "cell_type": "code",
   "execution_count": 103,
   "id": "b0a21e21-7a8f-421e-87ab-5750bd157189",
   "metadata": {},
   "outputs": [
    {
     "name": "stderr",
     "output_type": "stream",
     "text": [
      "Essais: 100%|███████████████████████████████████| 30/30 [00:13<00:00,  2.27it/s]"
     ]
    },
    {
     "name": "stdout",
     "output_type": "stream",
     "text": [
      "0\n"
     ]
    },
    {
     "name": "stderr",
     "output_type": "stream",
     "text": [
      "\n"
     ]
    }
   ],
   "source": [
    "def test_model_gra(model_nom, phrase,n_iterations=20):\n",
    "    cpt = 0\n",
    "    client = groq.Client(api_key=\"votre_key\")\n",
    "\n",
    "    # Effectuer la première requête\n",
    "    chat_completion = client.chat.completions.create(\n",
    "        messages=[\n",
    "            {\n",
    "                \"role\": \"user\",\n",
    "                \"content\": f\"Tu es un modèle de classification : {phrase} je veux que tu me donne la granualité de la phrase ou allant de 3 à -3 , 3 est tres positive et -3et 0 quand c'est neutre très négative je veux uniquement le résultat qui est un chiffre et rien d'autre avec aucun contexte\"            }\n",
    "        ],\n",
    "        model=model_nom\n",
    "    )\n",
    "    tmp = chat_completion.choices[0].message.content.strip()\n",
    "\n",
    "    # Effectuer les autres requêtes\n",
    "    for i in tqdm(range(n_iterations)):\n",
    "        chat_completion = client.chat.completions.create(\n",
    "            messages=[\n",
    "                {\n",
    "                    \"role\": \"user\",\n",
    "                    \"content\": f\"Tu es un modèle de classification : {phrase} je veux que tu me donne la granualité de la phrase ou allant de 3 à -3 , 3 est tres positive et -3et 0 quand c'est neutre très négative je veux uniquement le résultat qui est un chiffre et rien d'autre avec aucun contexte\"\n",
    "                }\n",
    "            ],\n",
    "            model=model_nom\n",
    "        )\n",
    "        response = chat_completion.choices[0].message.content.strip()\n",
    "        if tmp != response:\n",
    "            cpt += 1\n",
    "        tmp = response\n",
    "\n",
    "    return cpt\n",
    "# Tester le modèle\n",
    "resultat = test_model(\"mixtral-8x7b-32768\", df_phrase.iloc[0])\n",
    "print(resultat)\n"
   ]
  },
  {
   "cell_type": "code",
   "execution_count": null,
   "id": "2ee87f69-a73b-49ef-a5fb-0f922d109cf5",
   "metadata": {},
   "outputs": [],
   "source": [
    "def moyenne_diff_class(df,model,n):\n",
    "    sample_size = 10\n",
    "    n_iterations = 3\n",
    "    #sample aléatoire du data frame\n",
    "    sample_data = df.sample(n=sample_size, random_state=n)\n",
    "\n",
    "    # Initialiser un compteur pour le nombre total de différences de sortie\n",
    "    total_cpt = 0\n",
    "\n",
    "    # Tester chaque élément de l'échantillon en utilisant la fonction test_model\n",
    "    for i, row in sample_data.iterrows():\n",
    "        resultat = test_model(model, row, n_iterations)\n",
    "        #print(f\"Résultat pour l'élément {i+1} : {resultat}\")\n",
    "        total_cpt += resultat\n",
    "\n",
    "    mean_diff = total_cpt / (sample_size * n_iterations)\n",
    "    round(mean_diff,2)\n",
    "    return mean_diff\n",
    "moyenne_diff_class(df,\"llama3-70b-8192\",4)"
   ]
  },
  {
   "cell_type": "code",
   "execution_count": 68,
   "id": "295a2da3-82a3-4e61-b431-1f554feda31b",
   "metadata": {},
   "outputs": [],
   "source": [
    "def rep_mod(phrase,modele):\n",
    "    \n",
    "    client = groq.Client(api_key=\"votre_key\")\n",
    "    chat_completion = client.chat.completions.create(\n",
    "        messages=[\n",
    "            {\n",
    "                \"role\": \"user\",\n",
    "                \"content\": f\"Tu es un modèle de classification et voici la phrase : {phrase}et voici la classification : Positif , Négatif , Neutre je veux un seul mot en guise de réponse\"\n",
    "            }\n",
    "        ],\n",
    "        model=modele\n",
    "    )\n",
    "    return chat_completion.choices[0].message.content\n",
    "    "
   ]
  },
  {
   "cell_type": "code",
   "execution_count": 226,
   "id": "3d30ac6f-993d-42f4-ba2e-36d1b6b93f2b",
   "metadata": {},
   "outputs": [
    {
     "data": {
      "text/plain": [
       "'3'"
      ]
     },
     "execution_count": 226,
     "metadata": {},
     "output_type": "execute_result"
    }
   ],
   "source": [
    "def rep_mod_gra(phrase,modele):\n",
    "    client = groq.Client(api_key='votre_key')\n",
    "    chat_completion = client.chat.completions.create(\n",
    "        messages=[\n",
    "            {\n",
    "                 \"role\": \"user\",\n",
    "                 \"content\": f\"Tu es un modèle de classification : {phrase} je veux que tu me donne la granualité de la phrase ou allant de 3 à -3 , 3 est tres positive et -3et 0 quand c'est neutre très négative je veux uniquement le résultat qui est un chiffre et rien d'autre avec aucun contexte\"\n",
    "            }\n",
    "        ],\n",
    "        model=modele\n",
    "    )\n",
    "    return chat_completion.choices[0].message.content\n",
    "\n",
    "rep_mod_gra(df_phrase.iloc[1]['text'],\"llama3-70b-8192\")"
   ]
  },
  {
   "cell_type": "code",
   "execution_count": 79,
   "id": "482ac69d-3b6d-4e45-ba9d-648653f64be1",
   "metadata": {},
   "outputs": [
    {
     "name": "stdout",
     "output_type": "stream",
     "text": [
      "1ère étape : la double écoute. On m'avait dit que c'était la partie la moins intéressante, peut être (par rapport à la maraude; par exemple, la travailleuse sociale avec qui j'étais m'enviait de partir en maraude), mais ce n'était pas du tout ennuyeux. On m'a tout de suite bien accueillie, et bien expliqué à chaque fois la situation de l'usager qui appelait, les différentes solutions à lui proposer, son suivi.  2ème étape : le briefing. La rencontre de toutes ces personnes qui travaillent la nuit pour apporter leur aide aux plus démunis. Il m'a permis aussi de mieux comprendre l'organisation des maraudes.  3ème étape : la maraude. Avec une équipe hilarante et accueillante. Rencontre de plusieurs sans abris, un peu discuté avec l'un d'entre eux, tous très sympathiques. Pas très différents de nous finalement, on ne sait pas ce que la vie nous réserve.  J'ai été étonnée du manque de moyens dans les centres, je me souviendrais d'un soin infirmier d'une plaie du pied, avec un infirmier consciencieux qui ne pouvait malheureusement pas faire un soin de la qualité qu'il aurait voulu : manque de matériel, manque de temps, mais quand même le sentiment d'avoir été utiles, en attendant le médecin qui passait le lendemain matin.  En bref, je redoutais un peu cette garde obligatoire, dont je n'avais pas le choix de la date, j'avais peur de ne pas savoir comment réagir, d'être un peu exclue, au final, je suis très heureuse d'y être allée, c'était une expérience très enrichissante. La garde de nuit en maraude.\n"
     ]
    }
   ],
   "source": [
    "#fonction qui renvois la réponses du modèle pour la target\n",
    "def rep_mod_target(bloc,modele):\n",
    "    client = groq.Client(api_key='votre_key')\n",
    "    chat_completion = client.chat.completions.create(\n",
    "        messages=[\n",
    "            {\n",
    "             \"role\": \"user\",\n",
    "             \"content\": f\"Tu es un modèle de stance detection et voici la commentaire : {bloc} Je veux que tu me donne uniquement vers quoi est dirigé la target la sans aucun contexte et rien d'autre avec précision sans explication sans depasser 5 mots dans ta réponsse de la manière la plus précise possible\"\n",
    "            }\n",
    "        ],\n",
    "        model=modele\n",
    "    )\n",
    "    return chat_completion.choices[0].message.content\n",
    "\n",
    "print(data_80.iloc[690]['text'],rep_mod_target(data_80.iloc[690]['text'],\"llama3-70b-8192\"))"
   ]
  },
  {
   "cell_type": "markdown",
   "id": "ab37a540-4058-43b8-b4a1-9a9f9532b930",
   "metadata": {},
   "source": [
    "***Pré-annotation des granualité du df_phrase80(80% du dataset)***"
   ]
  },
  {
   "cell_type": "code",
   "execution_count": null,
   "id": "621fbc97-8712-4a2e-9f6e-54d4e1d13069",
   "metadata": {},
   "outputs": [],
   "source": [
    "#Pré annotation des granualité\n",
    "for idx, row in tqdm(phrase_80.iterrows(), total=len(phrase_80), desc=\"Annotation des phrase en cours\"):\n",
    "    phrase_80.loc[idx, 'granualité'] = rep_mod_gra(row['text'], modele)\n",
    "    \n",
    "phrase_80.to_csv(\"training_set_annot_80.csv\")"
   ]
  },
  {
   "cell_type": "code",
   "execution_count": 210,
   "id": "d7bad1ae-7b2d-41b3-bc65-a4b60091c08f",
   "metadata": {},
   "outputs": [
    {
     "name": "stderr",
     "output_type": "stream",
     "text": [
      "Annotation des phrase en cours:  98%|██▉| 11005/11265 [8:36:26<12:12,  2.82s/it]\n"
     ]
    }
   ],
   "source": [
    "#Pré-annotation des classification \n",
    "modele = \"llama3-70b-8192\"\n",
    "for idx, row in tqdm(df_phrase_80.iterrows(), total=len(phrase_80), desc=\"Annotation des phrase en cours\"):\n",
    "    phrase_80.loc[idx, 'pre_annot'] = rep_mod(row['text'], modele)\n"
   ]
  },
  {
   "cell_type": "code",
   "execution_count": 214,
   "id": "83966e13-eed8-4bd3-85d5-e41704cd6477",
   "metadata": {},
   "outputs": [
    {
     "data": {
      "text/html": [
       "<div>\n",
       "<style scoped>\n",
       "    .dataframe tbody tr th:only-of-type {\n",
       "        vertical-align: middle;\n",
       "    }\n",
       "\n",
       "    .dataframe tbody tr th {\n",
       "        vertical-align: top;\n",
       "    }\n",
       "\n",
       "    .dataframe thead th {\n",
       "        text-align: right;\n",
       "    }\n",
       "</style>\n",
       "<table border=\"1\" class=\"dataframe\">\n",
       "  <thead>\n",
       "    <tr style=\"text-align: right;\">\n",
       "      <th></th>\n",
       "      <th>id</th>\n",
       "      <th>genre</th>\n",
       "      <th>text</th>\n",
       "      <th>date</th>\n",
       "      <th>Id_bloc</th>\n",
       "      <th>pre_annot</th>\n",
       "      <th>granualité</th>\n",
       "      <th>num_tokens</th>\n",
       "    </tr>\n",
       "  </thead>\n",
       "  <tbody>\n",
       "    <tr>\n",
       "      <th>8513</th>\n",
       "      <td>8513.0</td>\n",
       "      <td>Homme</td>\n",
       "      <td>Cette nuit nous confronte à la solitude des pe...</td>\n",
       "      <td>07/12/2014</td>\n",
       "      <td>1415.0</td>\n",
       "      <td>Positif</td>\n",
       "      <td>None</td>\n",
       "      <td>10.0</td>\n",
       "    </tr>\n",
       "    <tr>\n",
       "      <th>4215</th>\n",
       "      <td>4215.0</td>\n",
       "      <td>Femme</td>\n",
       "      <td>Comme son nom l'indique, on s'axe sur le socia...</td>\n",
       "      <td>23/06/2017</td>\n",
       "      <td>717.0</td>\n",
       "      <td>Positif</td>\n",
       "      <td>None</td>\n",
       "      <td>25.0</td>\n",
       "    </tr>\n",
       "    <tr>\n",
       "      <th>2018</th>\n",
       "      <td>2018.0</td>\n",
       "      <td>Femme</td>\n",
       "      <td>J'ai été très bien intégrée par l'équipe que j...</td>\n",
       "      <td>19/09/2018</td>\n",
       "      <td>333.0</td>\n",
       "      <td>Neutre</td>\n",
       "      <td>None</td>\n",
       "      <td>11.0</td>\n",
       "    </tr>\n",
       "    <tr>\n",
       "      <th>8121</th>\n",
       "      <td>8121.0</td>\n",
       "      <td>Femme</td>\n",
       "      <td>L'expérience qui m'a le plus marquée est la re...</td>\n",
       "      <td>02/03/2015</td>\n",
       "      <td>1338.0</td>\n",
       "      <td>Négatif</td>\n",
       "      <td>None</td>\n",
       "      <td>12.0</td>\n",
       "    </tr>\n",
       "    <tr>\n",
       "      <th>3902</th>\n",
       "      <td>3902.0</td>\n",
       "      <td>Homme</td>\n",
       "      <td>Les équipes sont très adaptés au différentes s...</td>\n",
       "      <td>09/08/2017</td>\n",
       "      <td>654.0</td>\n",
       "      <td>Négatif</td>\n",
       "      <td>None</td>\n",
       "      <td>9.0</td>\n",
       "    </tr>\n",
       "    <tr>\n",
       "      <th>...</th>\n",
       "      <td>...</td>\n",
       "      <td>...</td>\n",
       "      <td>...</td>\n",
       "      <td>...</td>\n",
       "      <td>...</td>\n",
       "      <td>...</td>\n",
       "      <td>...</td>\n",
       "      <td>...</td>\n",
       "    </tr>\n",
       "    <tr>\n",
       "      <th>5191</th>\n",
       "      <td>5191.0</td>\n",
       "      <td>Homme</td>\n",
       "      <td>- Beaucoup de très très bonnes choses dans le ...</td>\n",
       "      <td>23/10/2016</td>\n",
       "      <td>875.0</td>\n",
       "      <td>Positif</td>\n",
       "      <td>None</td>\n",
       "      <td>157.0</td>\n",
       "    </tr>\n",
       "    <tr>\n",
       "      <th>13418</th>\n",
       "      <td>13418.0</td>\n",
       "      <td>Homme</td>\n",
       "      <td>Cette garde s'est avérée très intéressante : e...</td>\n",
       "      <td>26/07/2011</td>\n",
       "      <td>2253.0</td>\n",
       "      <td>None</td>\n",
       "      <td>None</td>\n",
       "      <td>42.0</td>\n",
       "    </tr>\n",
       "    <tr>\n",
       "      <th>5390</th>\n",
       "      <td>5390.0</td>\n",
       "      <td>Femme</td>\n",
       "      <td>Et quand enfin ils ont une place, le lendemain...</td>\n",
       "      <td>12/09/2016</td>\n",
       "      <td>904.0</td>\n",
       "      <td>Positif</td>\n",
       "      <td>None</td>\n",
       "      <td>14.0</td>\n",
       "    </tr>\n",
       "    <tr>\n",
       "      <th>860</th>\n",
       "      <td>860.0</td>\n",
       "      <td>Femme</td>\n",
       "      <td>Savoir comment leur parler, comment les aborde...</td>\n",
       "      <td>27/05/2019</td>\n",
       "      <td>134.0</td>\n",
       "      <td>Positif</td>\n",
       "      <td>None</td>\n",
       "      <td>21.0</td>\n",
       "    </tr>\n",
       "    <tr>\n",
       "      <th>7270</th>\n",
       "      <td>7270.0</td>\n",
       "      <td>Femme</td>\n",
       "      <td>J'ai été surprise de voir la \"complicité\" entr...</td>\n",
       "      <td>28/08/2015</td>\n",
       "      <td>1188.0</td>\n",
       "      <td>Positif</td>\n",
       "      <td>None</td>\n",
       "      <td>19.0</td>\n",
       "    </tr>\n",
       "  </tbody>\n",
       "</table>\n",
       "<p>11004 rows × 8 columns</p>\n",
       "</div>"
      ],
      "text/plain": [
       "            id  genre                                               text  \\\n",
       "8513    8513.0  Homme  Cette nuit nous confronte à la solitude des pe...   \n",
       "4215    4215.0  Femme  Comme son nom l'indique, on s'axe sur le socia...   \n",
       "2018    2018.0  Femme  J'ai été très bien intégrée par l'équipe que j...   \n",
       "8121    8121.0  Femme  L'expérience qui m'a le plus marquée est la re...   \n",
       "3902    3902.0  Homme  Les équipes sont très adaptés au différentes s...   \n",
       "...        ...    ...                                                ...   \n",
       "5191    5191.0  Homme  - Beaucoup de très très bonnes choses dans le ...   \n",
       "13418  13418.0  Homme  Cette garde s'est avérée très intéressante : e...   \n",
       "5390    5390.0  Femme  Et quand enfin ils ont une place, le lendemain...   \n",
       "860      860.0  Femme  Savoir comment leur parler, comment les aborde...   \n",
       "7270    7270.0  Femme  J'ai été surprise de voir la \"complicité\" entr...   \n",
       "\n",
       "             date  Id_bloc pre_annot granualité  num_tokens  \n",
       "8513   07/12/2014   1415.0   Positif       None        10.0  \n",
       "4215   23/06/2017    717.0   Positif       None        25.0  \n",
       "2018   19/09/2018    333.0    Neutre       None        11.0  \n",
       "8121   02/03/2015   1338.0   Négatif       None        12.0  \n",
       "3902   09/08/2017    654.0   Négatif       None         9.0  \n",
       "...           ...      ...       ...        ...         ...  \n",
       "5191   23/10/2016    875.0   Positif       None       157.0  \n",
       "13418  26/07/2011   2253.0      None       None        42.0  \n",
       "5390   12/09/2016    904.0   Positif       None        14.0  \n",
       "860    27/05/2019    134.0   Positif       None        21.0  \n",
       "7270   28/08/2015   1188.0   Positif       None        19.0  \n",
       "\n",
       "[11004 rows x 8 columns]"
      ]
     },
     "execution_count": 214,
     "metadata": {},
     "output_type": "execute_result"
    }
   ],
   "source": [
    "phrase_80= phrase_80.dropna(subset=['text'])\n",
    "phrase_80"
   ]
  },
  {
   "cell_type": "markdown",
   "id": "e97b62e1-1846-406b-b70c-19dc1df086d3",
   "metadata": {},
   "source": [
    "***Pré-annotation des target du data_80(80%du dataset)***"
   ]
  },
  {
   "cell_type": "code",
   "execution_count": 211,
   "id": "dc70392c-ffa9-4e31-8974-900407758b6f",
   "metadata": {},
   "outputs": [
    {
     "name": "stderr",
     "output_type": "stream",
     "text": [
      "Annotation des target en cours: 100%|█████| 1839/1839 [1:34:07<00:00,  3.07s/it]\n"
     ]
    },
    {
     "data": {
      "text/html": [
       "<div>\n",
       "<style scoped>\n",
       "    .dataframe tbody tr th:only-of-type {\n",
       "        vertical-align: middle;\n",
       "    }\n",
       "\n",
       "    .dataframe tbody tr th {\n",
       "        vertical-align: top;\n",
       "    }\n",
       "\n",
       "    .dataframe thead th {\n",
       "        text-align: right;\n",
       "    }\n",
       "</style>\n",
       "<table border=\"1\" class=\"dataframe\">\n",
       "  <thead>\n",
       "    <tr style=\"text-align: right;\">\n",
       "      <th></th>\n",
       "      <th>id</th>\n",
       "      <th>date</th>\n",
       "      <th>genre</th>\n",
       "      <th>text</th>\n",
       "      <th>pre_target</th>\n",
       "      <th>pre_granualité</th>\n",
       "      <th>num_tokens</th>\n",
       "      <th>target</th>\n",
       "    </tr>\n",
       "  </thead>\n",
       "  <tbody>\n",
       "    <tr>\n",
       "      <th>1131</th>\n",
       "      <td>1132</td>\n",
       "      <td>26/11/2015</td>\n",
       "      <td>Homme</td>\n",
       "      <td>Cette petite mission au SAMU Social est l'occa...</td>\n",
       "      <td>None</td>\n",
       "      <td>None</td>\n",
       "      <td>136</td>\n",
       "      <td>Le travail des équipes de SAMU Social.</td>\n",
       "    </tr>\n",
       "    <tr>\n",
       "      <th>351</th>\n",
       "      <td>352</td>\n",
       "      <td>13/08/2018</td>\n",
       "      <td>Femme</td>\n",
       "      <td>La nuit était particulièrement chaude, à la fi...</td>\n",
       "      <td>None</td>\n",
       "      <td>None</td>\n",
       "      <td>313</td>\n",
       "      <td>Appréciation et gratitude.</td>\n",
       "    </tr>\n",
       "    <tr>\n",
       "      <th>944</th>\n",
       "      <td>945</td>\n",
       "      <td>01/08/2016</td>\n",
       "      <td>Homme</td>\n",
       "      <td>Cette nuit au Samu social fut une belle expéri...</td>\n",
       "      <td>None</td>\n",
       "      <td>None</td>\n",
       "      <td>85</td>\n",
       "      <td>Le SAMU social</td>\n",
       "    </tr>\n",
       "    <tr>\n",
       "      <th>1958</th>\n",
       "      <td>1959</td>\n",
       "      <td>11/06/2012</td>\n",
       "      <td>Femme</td>\n",
       "      <td>La nuit passée avec le Samu Social de Paris au...</td>\n",
       "      <td>None</td>\n",
       "      <td>None</td>\n",
       "      <td>224</td>\n",
       "      <td>Samu Social de Paris</td>\n",
       "    </tr>\n",
       "    <tr>\n",
       "      <th>210</th>\n",
       "      <td>211</td>\n",
       "      <td>16/02/2019</td>\n",
       "      <td>Homme</td>\n",
       "      <td>J'ai un avis mitigé quand à cette garde réalis...</td>\n",
       "      <td>None</td>\n",
       "      <td>None</td>\n",
       "      <td>203</td>\n",
       "      <td>SAMU social.</td>\n",
       "    </tr>\n",
       "    <tr>\n",
       "      <th>...</th>\n",
       "      <td>...</td>\n",
       "      <td>...</td>\n",
       "      <td>...</td>\n",
       "      <td>...</td>\n",
       "      <td>...</td>\n",
       "      <td>...</td>\n",
       "      <td>...</td>\n",
       "      <td>...</td>\n",
       "    </tr>\n",
       "    <tr>\n",
       "      <th>1638</th>\n",
       "      <td>1639</td>\n",
       "      <td>08/09/2013</td>\n",
       "      <td>Homme</td>\n",
       "      <td>La nuit au samu social est une expérience enri...</td>\n",
       "      <td>None</td>\n",
       "      <td>None</td>\n",
       "      <td>83</td>\n",
       "      <td>Le Samu social.</td>\n",
       "    </tr>\n",
       "    <tr>\n",
       "      <th>1095</th>\n",
       "      <td>1096</td>\n",
       "      <td>10/01/2016</td>\n",
       "      <td>Femme</td>\n",
       "      <td>J'ai trouvé cette expérience particulièrement ...</td>\n",
       "      <td>None</td>\n",
       "      <td>None</td>\n",
       "      <td>130</td>\n",
       "      <td>Garde hospitalière.</td>\n",
       "    </tr>\n",
       "    <tr>\n",
       "      <th>1130</th>\n",
       "      <td>1131</td>\n",
       "      <td>26/11/2015</td>\n",
       "      <td>Homme</td>\n",
       "      <td>Je garde un très bon souvenir de ma garde au S...</td>\n",
       "      <td>None</td>\n",
       "      <td>None</td>\n",
       "      <td>79</td>\n",
       "      <td>Samu Social</td>\n",
       "    </tr>\n",
       "    <tr>\n",
       "      <th>1294</th>\n",
       "      <td>1295</td>\n",
       "      <td>15/04/2015</td>\n",
       "      <td>Femme</td>\n",
       "      <td>C'est une expérience très enrichissante pour m...</td>\n",
       "      <td>None</td>\n",
       "      <td>None</td>\n",
       "      <td>76</td>\n",
       "      <td>SAMU social et travailleurs sociaux.</td>\n",
       "    </tr>\n",
       "    <tr>\n",
       "      <th>860</th>\n",
       "      <td>861</td>\n",
       "      <td>07/11/2016</td>\n",
       "      <td>Femme</td>\n",
       "      <td>La double-écoute était un peu restreinte mais ...</td>\n",
       "      <td>None</td>\n",
       "      <td>None</td>\n",
       "      <td>214</td>\n",
       "      <td>Travail humanitaire et sans-abrisme.</td>\n",
       "    </tr>\n",
       "  </tbody>\n",
       "</table>\n",
       "<p>1839 rows × 8 columns</p>\n",
       "</div>"
      ],
      "text/plain": [
       "        id        date  genre  \\\n",
       "1131  1132  26/11/2015  Homme   \n",
       "351    352  13/08/2018  Femme   \n",
       "944    945  01/08/2016  Homme   \n",
       "1958  1959  11/06/2012  Femme   \n",
       "210    211  16/02/2019  Homme   \n",
       "...    ...         ...    ...   \n",
       "1638  1639  08/09/2013  Homme   \n",
       "1095  1096  10/01/2016  Femme   \n",
       "1130  1131  26/11/2015  Homme   \n",
       "1294  1295  15/04/2015  Femme   \n",
       "860    861  07/11/2016  Femme   \n",
       "\n",
       "                                                   text pre_target  \\\n",
       "1131  Cette petite mission au SAMU Social est l'occa...       None   \n",
       "351   La nuit était particulièrement chaude, à la fi...       None   \n",
       "944   Cette nuit au Samu social fut une belle expéri...       None   \n",
       "1958  La nuit passée avec le Samu Social de Paris au...       None   \n",
       "210   J'ai un avis mitigé quand à cette garde réalis...       None   \n",
       "...                                                 ...        ...   \n",
       "1638  La nuit au samu social est une expérience enri...       None   \n",
       "1095  J'ai trouvé cette expérience particulièrement ...       None   \n",
       "1130  Je garde un très bon souvenir de ma garde au S...       None   \n",
       "1294  C'est une expérience très enrichissante pour m...       None   \n",
       "860   La double-écoute était un peu restreinte mais ...       None   \n",
       "\n",
       "     pre_granualité  num_tokens                                  target  \n",
       "1131           None         136  Le travail des équipes de SAMU Social.  \n",
       "351            None         313              Appréciation et gratitude.  \n",
       "944            None          85                          Le SAMU social  \n",
       "1958           None         224                    Samu Social de Paris  \n",
       "210            None         203                            SAMU social.  \n",
       "...             ...         ...                                     ...  \n",
       "1638           None          83                         Le Samu social.  \n",
       "1095           None         130                     Garde hospitalière.  \n",
       "1130           None          79                             Samu Social  \n",
       "1294           None          76    SAMU social et travailleurs sociaux.  \n",
       "860            None         214    Travail humanitaire et sans-abrisme.  \n",
       "\n",
       "[1839 rows x 8 columns]"
      ]
     },
     "execution_count": 211,
     "metadata": {},
     "output_type": "execute_result"
    }
   ],
   "source": [
    "#Pré annotation des Target\n",
    "for idx, row in tqdm(data_80.iterrows(), total=len(data_80), desc=\"Annotation des target en cours\"):\n",
    "    data_80.loc[idx, 'target'] = rep_mod_target(row['text'], modele)\n",
    "data_80"
   ]
  },
  {
   "cell_type": "code",
   "execution_count": 207,
   "id": "bf0f3cc9-1ca5-42ad-ab29-1ccfbcc17763",
   "metadata": {},
   "outputs": [
    {
     "name": "stdout",
     "output_type": "stream",
     "text": [
      "Nombres total de tokens 408079\n"
     ]
    }
   ],
   "source": [
    "result = phrase_80['text'].str.cat(sep=';')\n",
    "\n",
    "def num_tokens_from_string(string: str, encoding_name: str) -> int:\n",
    "    encoding = tiktoken.get_encoding(encoding_name)\n",
    "    num_tokens = len(encoding.encode(string))\n",
    "    return num_tokens\n",
    "\n",
    "print(\"Nombres total de tokens\",num_tokens_from_string(result, \"cl100k_base\"))"
   ]
  },
  {
   "cell_type": "code",
   "execution_count": 206,
   "id": "ccc7a4e4-8a06-4326-acbb-e40d7feea11f",
   "metadata": {},
   "outputs": [
    {
     "data": {
      "text/plain": [
       "'Le nombre de tokens pour le df phrase_80 est de 259922 et le nombre de tokens pour data_80 = 263788 et en output on a 13756 tokens '"
      ]
     },
     "execution_count": 206,
     "metadata": {},
     "output_type": "execute_result"
    }
   ],
   "source": [
    "def count_tokens(df):\n",
    "    \"\"\"\n",
    "    Compte le nombre de tokens dans la colonne 'texte' de chaque ligne du dataframe df.\n",
    "    Retourne un nouveau dataframe avec une colonne 'num_tokens' contenant le nombre de tokens.\n",
    "    \"\"\"\n",
    "    # Définir la fonction à appliquer à chaque ligne\n",
    "    def count_tokens_in_row(row):\n",
    "        return len(row['text'].split())\n",
    "\n",
    "    # Appliquer la fonction à chaque ligne et stocker le résultat dans une nouvelle colonne\n",
    "    df['num_tokens'] = df.apply(count_tokens_in_row, axis=1)\n",
    "\n",
    "    return df\n",
    "\n",
    "count_tokens(phrase_80)\n",
    "count_tokens(data_80)\n",
    "somme_tokp = phrase_80['num_tokens'].sum()\n",
    "somme_tokb = data_80['num_tokens'].sum()\n",
    "f\"Le nombre de tokens pour le df phrase_80 est de {somme_tokp} et le nombre de tokens pour data_80 = {somme_tokb} et en output on a {len(df_phrase)} tokens \"\n"
   ]
  },
  {
   "cell_type": "code",
   "execution_count": 128,
   "id": "8827fc34-ec4e-4b8c-aa8d-b14eb35243f7",
   "metadata": {},
   "outputs": [
    {
     "data": {
      "text/plain": [
       "788"
      ]
     },
     "execution_count": 128,
     "metadata": {},
     "output_type": "execute_result"
    }
   ],
   "source": [
    "#Pour netoyer le data frame des coquilles de réponses ie diférent \n",
    "# Liste des valeurs attendues\n",
    "valeurs_attendues = {'Positive','Négative','Neutre'}\n",
    "\n",
    "# Trouver les indices où les valeurs de 'pre_annot' ne sont pas dans les valeurs attendues\n",
    "indices_incorrects = df_phrase_80.index[~df_phrase_80['pre_annot'].isin(valeurs_attendues)].tolist()\n",
    "\n",
    "# Afficher les indices incorrects\n",
    "len(indices_incorrects)\n",
    "for idx in tqdm(indices_incorrects, desc=\"Correction des annotations\"):\n",
    "    phrase = df_phrase_80.loc[idx, 'text']\n",
    "    if\n",
    "    df_phrase_80.loc[idx, 'pre_annot'] = rep_mod(phrase, modele)\n"
   ]
  },
  {
   "cell_type": "code",
   "execution_count": null,
   "id": "b27573de-6759-4cd1-ac02-72f9c879efb9",
   "metadata": {},
   "outputs": [
    {
     "name": "stdout",
     "output_type": "stream",
     "text": [
      "Nombres total de tokens 408079\n"
     ]
    }
   ],
   "source": []
  },
  {
   "cell_type": "code",
   "execution_count": 110,
   "id": "af591a64-14cd-435f-a23b-3b0233b23994",
   "metadata": {},
   "outputs": [
    {
     "name": "stderr",
     "output_type": "stream",
     "text": [
      "100%|███████████████████████████████████████████| 20/20 [00:08<00:00,  2.31it/s]\n",
      "100%|███████████████████████████████████████████| 20/20 [00:35<00:00,  1.78s/it]\n",
      "100%|███████████████████████████████████████████| 20/20 [00:54<00:00,  2.75s/it]\n",
      "100%|███████████████████████████████████████████| 20/20 [01:24<00:00,  4.22s/it]\n",
      "100%|███████████████████████████████████████████| 20/20 [01:13<00:00,  3.69s/it]\n",
      "100%|███████████████████████████████████████████| 20/20 [00:21<00:00,  1.09s/it]\n",
      "100%|███████████████████████████████████████████| 20/20 [01:10<00:00,  3.50s/it]\n",
      "100%|███████████████████████████████████████████| 20/20 [01:51<00:00,  5.56s/it]\n",
      "100%|███████████████████████████████████████████| 20/20 [00:46<00:00,  2.33s/it]\n",
      "100%|███████████████████████████████████████████| 20/20 [00:16<00:00,  1.18it/s]\n"
     ]
    },
    {
     "data": {
      "text/plain": [
       "3.2666666666666666"
      ]
     },
     "execution_count": 110,
     "metadata": {},
     "output_type": "execute_result"
    }
   ],
   "source": [
    "def moyenne_diff_class(df,model,n):\n",
    "    sample_size = 10\n",
    "    n_iterations = 3\n",
    "    #sample aléatoire du data frame\n",
    "    sample_data = df.sample(n=sample_size, random_state=n)\n",
    "\n",
    "    # Initialiser un compteur pour le nombre total de différences de sortie\n",
    "    total_cpt = 0\n",
    "\n",
    "    # Tester chaque élément de l'échantillon en utilisant la fonction test_model\n",
    "    for i, row in sample_data.iterrows():\n",
    "        resultat = test_model_gra(model,row)\n",
    "        #resultat = test_model(model, row, n_iterations)\n",
    "        #print(f\"Résultat pour l'élément {i+1} : {resultat}\")\n",
    "        total_cpt += resultat\n",
    "\n",
    "    mean_diff = total_cpt / (sample_size * n_iterations)\n",
    "    round(mean_diff,2)\n",
    "    return mean_diff\n",
    "moyenne_diff_class(phrase_80,\"llama3-70b-8192\",4)"
   ]
  },
  {
   "cell_type": "code",
   "execution_count": null,
   "id": "41f108da-404e-4c4e-b586-99adb6607ca9",
   "metadata": {
    "scrolled": true
   },
   "outputs": [],
   "source": [
    "model_names = ['llama3-8b-8192', 'mixtral-8x7b-32768','llama3-70b-8192', 'gemma-7b-it']\n",
    "#Le résultat est un graphique qui montre la moyenne de changement sur un sample aléatoire du df de 10 élément \n",
    "\n",
    "\n",
    "#Pour stocker les moyenne de changement par modèle \n",
    "mean_diffs = []\n",
    "\n",
    "#Pour calculer les moyennes \n",
    "for model_name in model_names:\n",
    "    mean_diff = moyenne_diff_class(df, model_name, 3)\n",
    "    mean_diffs.append(mean_diff)\n",
    "\n",
    "#Le graphe pour illustrer les moyennes par modèles \n",
    "plt.bar(model_names, mean_diffs)\n",
    "plt.xlabel('Modèles')\n",
    "plt.ylabel('Moyenne de changement')\n",
    "plt.title('Moyenne de changement pour chaque modèle')\n",
    "plt.show()\n",
    "\n"
   ]
  },
  {
   "cell_type": "markdown",
   "id": "4befc206-7adf-473c-bf3e-87539f571567",
   "metadata": {},
   "source": [
    "En conclusion on vas donc choisir le modèle ***llama3-70b-8192***"
   ]
  },
  {
   "cell_type": "markdown",
   "id": "c871ad41-c76a-4df3-8533-a88365e3b36b",
   "metadata": {},
   "source": [
    "Nombre d'erreurs au sein du df"
   ]
  },
  {
   "cell_type": "code",
   "execution_count": 224,
   "id": "ab20c02c-8fec-4c60-9f22-dfc010f48315",
   "metadata": {},
   "outputs": [
    {
     "data": {
      "text/plain": [
       "8749"
      ]
     },
     "execution_count": 224,
     "metadata": {},
     "output_type": "execute_result"
    }
   ],
   "source": [
    "positives_df = phrase_80.loc[phrase_80['pre_annot'] == 'Positif']\n",
    "neutre_df = phrase_80.loc[phrase_80['pre_annot'] == 'Neutre']\n",
    "négative_df = phrase_80.loc[phrase_80['pre_annot'] == 'Négatif']\n",
    "#indices_incorrects = phrase_80.index[~phrase_80['pre_annot'].isin(valeurs_attendues)].tolist()\n",
    "len(positives_df)+len(neutre_df)+len(négative_df)"
   ]
  },
  {
   "cell_type": "code",
   "execution_count": 218,
   "id": "eab8b26c-c24b-4698-88b1-00266091b6c9",
   "metadata": {},
   "outputs": [
    {
     "ename": "TypeError",
     "evalue": "object of type 'numpy.int64' has no len()",
     "output_type": "error",
     "traceback": [
      "\u001b[0;31m---------------------------------------------------------------------------\u001b[0m",
      "\u001b[0;31mTypeError\u001b[0m                                 Traceback (most recent call last)",
      "Cell \u001b[0;32mIn[218], line 5\u001b[0m\n\u001b[1;32m      3\u001b[0m n_negative \u001b[38;5;241m=\u001b[39m phrase_80[\u001b[38;5;124m\"\u001b[39m\u001b[38;5;124mpre_annot\u001b[39m\u001b[38;5;124m\"\u001b[39m]\u001b[38;5;241m.\u001b[39mvalue_counts()[\u001b[38;5;124m\"\u001b[39m\u001b[38;5;124mNégatif\u001b[39m\u001b[38;5;124m\"\u001b[39m]\n\u001b[1;32m      4\u001b[0m n_neutre \u001b[38;5;241m=\u001b[39m phrase_80[\u001b[38;5;124m\"\u001b[39m\u001b[38;5;124mpre_annot\u001b[39m\u001b[38;5;124m\"\u001b[39m]\u001b[38;5;241m.\u001b[39mvalue_counts()[\u001b[38;5;124m\"\u001b[39m\u001b[38;5;124mNeutre\u001b[39m\u001b[38;5;124m\"\u001b[39m]\n\u001b[0;32m----> 5\u001b[0m \u001b[38;5;28mprint\u001b[39m(\u001b[38;5;28mlen\u001b[39m(n_positive),\u001b[38;5;28mlen\u001b[39m(n_negative),\u001b[38;5;28mlen\u001b[39m(n_neutre))\n\u001b[1;32m      6\u001b[0m \u001b[38;5;66;03m# Calculez le pourcentage de lignes \"Positive\", \"Négative\" et \"Neutre\" dans le data frame\u001b[39;00m\n\u001b[1;32m      7\u001b[0m p_positive \u001b[38;5;241m=\u001b[39m (n_positive \u001b[38;5;241m/\u001b[39m (n_positive \u001b[38;5;241m+\u001b[39m n_negative \u001b[38;5;241m+\u001b[39m n_neutre)) \u001b[38;5;241m*\u001b[39m \u001b[38;5;241m100\u001b[39m\n",
      "\u001b[0;31mTypeError\u001b[0m: object of type 'numpy.int64' has no len()"
     ]
    }
   ],
   "source": [
    "# Calculez la répartition \"Positive\", \"Négative\" et \"Neutre\" dans le data set\n",
    "n_positive = phrase_80[\"pre_annot\"].value_counts()[\"Positif\"]\n",
    "n_negative = phrase_80[\"pre_annot\"].value_counts()[\"Négatif\"]\n",
    "n_neutre = phrase_80[\"pre_annot\"].value_counts()[\"Neutre\"]\n",
    "# Calculez le pourcentage de lignes \"Positive\", \"Négative\" et \"Neutre\" dans le data frame\n",
    "p_positive = (n_positive / (n_positive + n_negative + n_neutre)) * 100\n",
    "p_negative = (n_negative / (n_positive + n_negative + n_neutre)) * 100\n",
    "p_neutre = (n_neutre / (n_positive + n_negative + n_neutre)) * 100\n",
    "\n",
    "# Créez une liste contenant le nombre de lignes \"Positive\", \"Négative\" et \"Neutre\" dans le data frame\n",
    "labels = [\"Positive\", \"Négative\", \"Neutre\"]\n",
    "sizes = [n_positive, n_negative, n_neutre]\n",
    "\n",
    "# Créez un diagramme circulaire représentant la répartition des lignes \"Positive\", \"Négative\" et \"Neutre\" dans le data frame\n",
    "# en utilisant la fonction pie() de la bibliothèque matplotlib\n",
    "fig, ax = plt.subplots()\n",
    "ax.pie(sizes, labels=labels, autopct=\"%1.1f%%\", startangle=90, colors=[\"#FFC107\", \"#FF5733\", \"#C0C0C0\"])\n",
    "\n",
    "# Ajoutez un titre et des étiquettes pour les axes x et y\n",
    "ax.set_title(\"Répartition phrases des résultats par classe\", fontsize=16, fontweight=\"bold\")\n",
    "ax.set_xlabel(\"\")\n",
    "ax.set_ylabel(\"\")\n",
    "\n",
    "# Affichez le diagramme circulaire\n",
    "\n",
    "plt.show()\n"
   ]
  },
  {
   "cell_type": "code",
   "execution_count": null,
   "id": "a026fec5-6e17-4c87-9b0f-fbcc590f6b95",
   "metadata": {},
   "outputs": [],
   "source": []
  },
  {
   "cell_type": "code",
   "execution_count": null,
   "id": "e635db13-08c7-4ff7-851c-e6e4758d18e4",
   "metadata": {},
   "outputs": [],
   "source": [
    "# Liste des valeurs attendues\n",
    "valeurs_attendues = ['Positive', 'Négative', 'Neutre']\n",
    "\n",
    "# Trouver les indices où les valeurs de 'pre_annot' ne sont pas dans les valeurs attendues\n",
    "indices_incorrects = df_final.index[~df_final['pre_annot'].isin(valeurs_attendues)].tolist()\n",
    "\n",
    "# Afficher les indices incorrects\n",
    "len(indices_incorrects)\n",
    "for idx in tqdm(indices_incorrects, desc=\"Correction des annotations\"):\n",
    "    phrase = df_final.loc[idx, 'text']\n",
    "    df_final.loc[idx, 'pre_annot'] = rep_mod(phrase, \"mixtral-8x7b-32768\")"
   ]
  },
  {
   "cell_type": "code",
   "execution_count": 204,
   "id": "bb115740-a597-4aef-84ef-39434ed1e68f",
   "metadata": {},
   "outputs": [
    {
     "name": "stdout",
     "output_type": "stream",
     "text": [
      "1\n",
      "Ma garde au samu social à été très enrichissante. L'équipe est très sympathique. Je me suis rendue compte du manque de moyens. En effet, les foyers sont trop peu nombreux face à la demande. Les membres du Samu social sont obligés de refuser un nombre très important de demande d'hébergement y compris des demandes venant de femmes enceintes ou avec enfants ce qui m'a beaucoup attristé.   La maraude s'est déroulée sous la pluie. Nous n'avons été à la rencontre que de trois sans abri. A Romain Rolland, nous avons rencontré un sans abri qui nécessitait une consultation psychiatrique car il a menacé de se suicider devant nous. Nous l'avons donc emmené aux urgences psychiatrique.\n"
     ]
    }
   ],
   "source": [
    "#Fonction qui permet de retrouver le bloc ou la phrase a été extraite\n",
    "def trouve_com(phrase, df):\n",
    "    id_phrase = phrase['Id_bloc']\n",
    "    print(id_phrase)\n",
    "    #print(phrase['id'])\n",
    "    id_phrase = int(id_phrase)\n",
    "    #print (df.iloc[id_phrase])\n",
    "    #-1 car les id commence à 1 et pas à 0 \n",
    "    return data.iloc[id_phrase-1]['text']\n",
    "print(trouve_com(df_phrase.iloc[2], data))"
   ]
  },
  {
   "cell_type": "code",
   "execution_count": 193,
   "id": "39654921-ce48-4d57-a4db-86799e5e3380",
   "metadata": {},
   "outputs": [
    {
     "data": {
      "text/plain": [
       "\"Les membres du Samu social sont obligés de refuser un nombre très important de demande d'hébergement y compris des demandes venant de femmes enceintes ou avec enfants ce qui m'a beaucoup attristé.\""
      ]
     },
     "execution_count": 193,
     "metadata": {},
     "output_type": "execute_result"
    }
   ],
   "source": [
    "data.loc[1415, 'text']\n",
    "df_phrase.iloc[0]['text'],data.iloc[0]['text']\n",
    "df_phrase.iloc[4]['text']"
   ]
  },
  {
   "cell_type": "code",
   "execution_count": 201,
   "id": "5471c713-07ed-4a9c-bd16-aafc2186359a",
   "metadata": {},
   "outputs": [
    {
     "data": {
      "text/plain": [
       "id                                                        2\n",
       "genre                                                 Femme\n",
       "text          Je me suis rendue compte du manque de moyens.\n",
       "date                                             20/02/2020\n",
       "Id_bloc                                                   1\n",
       "pre_annot                                              None\n",
       "granualité                                             None\n",
       "Name: 2, dtype: object"
      ]
     },
     "execution_count": 201,
     "metadata": {},
     "output_type": "execute_result"
    }
   ],
   "source": [
    "df_phrase.iloc[2]"
   ]
  },
  {
   "cell_type": "code",
   "execution_count": 202,
   "id": "d8a359c1-1b96-4257-9389-46299fddeaf0",
   "metadata": {},
   "outputs": [
    {
     "data": {
      "text/plain": [
       "\"Ma garde au samu social à été très enrichissante. L'équipe est très sympathique. Je me suis rendue compte du manque de moyens. En effet, les foyers sont trop peu nombreux face à la demande. Les membres du Samu social sont obligés de refuser un nombre très important de demande d'hébergement y compris des demandes venant de femmes enceintes ou avec enfants ce qui m'a beaucoup attristé.   La maraude s'est déroulée sous la pluie. Nous n'avons été à la rencontre que de trois sans abri. A Romain Rolland, nous avons rencontré un sans abri qui nécessitait une consultation psychiatrique car il a menacé de se suicider devant nous. Nous l'avons donc emmené aux urgences psychiatrique.\""
      ]
     },
     "execution_count": 202,
     "metadata": {},
     "output_type": "execute_result"
    }
   ],
   "source": [
    "data.iloc[0]['text']"
   ]
  },
  {
   "cell_type": "code",
   "execution_count": null,
   "id": "7459b32a",
   "metadata": {
    "scrolled": true
   },
   "outputs": [],
   "source": [
    "\n",
    "\n",
    "# Initialisation du tokenizer et du modèle\n",
    "tokenizer = RobertaTokenizer.from_pretrained('roberta-base')\n",
    "model = RobertaModel.from_pretrained('roberta-base')\n",
    "\n",
    "# Calculer les embeddings des textes du data frame\n",
    "input_embeddings = []\n",
    "for text in tqdm.tqdm(sm_df.iloc[0:10]['text']):  # Assurez-vous d'accéder à la colonne texte\n",
    "    encoded_text = tokenizer(text, padding=True, truncation=True, return_tensors=\"pt\")\n",
    "    with torch.no_grad():\n",
    "        output = model(**encoded_text)  # Passez directement les tensors au modèle\n",
    "    embedding = output.last_hidden_state[0, 0, :].numpy()\n",
    "    input_embeddings.append(embedding)\n",
    "\n",
    "# Calculer les scores de similarité entre les embeddings des textes et les embeddings des catégories\n",
    "label_embeddings = []\n",
    "for label in [\"Positive\", \"Neutre\", \"Négative\"]:\n",
    "    encoded_label = tokenizer(label, padding=True, truncation=True, return_tensors=\"pt\")\n",
    "    with torch.no_grad():\n",
    "        output = model(**encoded_label)\n",
    "    label_embedding = output.last_hidden_state[0, 0, :].numpy()\n",
    "    label_embeddings.append(label_embedding)\n",
    "\n",
    "label_embeddings = np.array(label_embeddings)\n",
    "scores = []\n",
    "for input_embedding in input_embeddings:\n",
    "    score = cosine_similarity([input_embedding], label_embeddings).flatten()\n",
    "    scores.append(score)\n",
    "\n",
    "# Utiliser les scores de similarité pour prédire les labels des textes\n",
    "labels = [\"Positive\", \"Neutre\", \"Négative\"]\n",
    "predictions = []\n",
    "for score in scores:\n",
    "    label = labels[np.argmax(score)]\n",
    "    predictions.append(label)\n",
    "\n",
    "# Pour éviter le warning SettingWithCopyWarning, utilisez .loc pour assigner les valeurs directement\n",
    "sm_df.loc[df.index[0:10], 'pre_annot'] = predictions\n",
    "\n",
    "# Afficher le data frame pour vérifier que la colonne \"pre_annot\" a été ajoutée\n",
    "print(sm_df)\n"
   ]
  },
  {
   "cell_type": "code",
   "execution_count": 152,
   "id": "abf6bdb3-4748-40a4-93eb-028fa79f008f",
   "metadata": {},
   "outputs": [
    {
     "data": {
      "text/html": [
       "<div>\n",
       "<style scoped>\n",
       "    .dataframe tbody tr th:only-of-type {\n",
       "        vertical-align: middle;\n",
       "    }\n",
       "\n",
       "    .dataframe tbody tr th {\n",
       "        vertical-align: top;\n",
       "    }\n",
       "\n",
       "    .dataframe thead th {\n",
       "        text-align: right;\n",
       "    }\n",
       "</style>\n",
       "<table border=\"1\" class=\"dataframe\">\n",
       "  <thead>\n",
       "    <tr style=\"text-align: right;\">\n",
       "      <th></th>\n",
       "      <th>id</th>\n",
       "      <th>genre</th>\n",
       "      <th>text</th>\n",
       "      <th>date</th>\n",
       "      <th>pre_annot</th>\n",
       "    </tr>\n",
       "  </thead>\n",
       "  <tbody>\n",
       "    <tr>\n",
       "      <th>8513</th>\n",
       "      <td>8513</td>\n",
       "      <td>Homme</td>\n",
       "      <td>Cette nuit nous confronte à la solitude des pe...</td>\n",
       "      <td>2014-12-07</td>\n",
       "      <td>Neutre</td>\n",
       "    </tr>\n",
       "    <tr>\n",
       "      <th>4215</th>\n",
       "      <td>4215</td>\n",
       "      <td>Femme</td>\n",
       "      <td>Comme son nom l'indique, on s'axe sur le socia...</td>\n",
       "      <td>2017-06-23</td>\n",
       "      <td>Neutre</td>\n",
       "    </tr>\n",
       "    <tr>\n",
       "      <th>2018</th>\n",
       "      <td>2018</td>\n",
       "      <td>Femme</td>\n",
       "      <td>J'ai été très bien intégrée par l'équipe que j...</td>\n",
       "      <td>2018-09-19</td>\n",
       "      <td>Neutre</td>\n",
       "    </tr>\n",
       "    <tr>\n",
       "      <th>8121</th>\n",
       "      <td>8121</td>\n",
       "      <td>Femme</td>\n",
       "      <td>L'expérience qui m'a le plus marquée est la re...</td>\n",
       "      <td>2015-03-02</td>\n",
       "      <td>Neutre</td>\n",
       "    </tr>\n",
       "    <tr>\n",
       "      <th>3902</th>\n",
       "      <td>3902</td>\n",
       "      <td>Homme</td>\n",
       "      <td>Les équipes sont très adaptés au différentes s...</td>\n",
       "      <td>2017-08-09</td>\n",
       "      <td>Neutre</td>\n",
       "    </tr>\n",
       "    <tr>\n",
       "      <th>...</th>\n",
       "      <td>...</td>\n",
       "      <td>...</td>\n",
       "      <td>...</td>\n",
       "      <td>...</td>\n",
       "      <td>...</td>\n",
       "    </tr>\n",
       "    <tr>\n",
       "      <th>5191</th>\n",
       "      <td>5191</td>\n",
       "      <td>Homme</td>\n",
       "      <td>- Beaucoup de très très bonnes choses dans le ...</td>\n",
       "      <td>2016-10-23</td>\n",
       "      <td>Neutre</td>\n",
       "    </tr>\n",
       "    <tr>\n",
       "      <th>13418</th>\n",
       "      <td>13418</td>\n",
       "      <td>Homme</td>\n",
       "      <td>Cette garde s'est avérée très intéressante : e...</td>\n",
       "      <td>2011-07-26</td>\n",
       "      <td>Neutre</td>\n",
       "    </tr>\n",
       "    <tr>\n",
       "      <th>5390</th>\n",
       "      <td>5390</td>\n",
       "      <td>Femme</td>\n",
       "      <td>Et quand enfin ils ont une place, le lendemain...</td>\n",
       "      <td>2016-09-12</td>\n",
       "      <td>Neutre</td>\n",
       "    </tr>\n",
       "    <tr>\n",
       "      <th>860</th>\n",
       "      <td>860</td>\n",
       "      <td>Femme</td>\n",
       "      <td>Savoir comment leur parler, comment les aborde...</td>\n",
       "      <td>2019-05-27</td>\n",
       "      <td>Neutre</td>\n",
       "    </tr>\n",
       "    <tr>\n",
       "      <th>7270</th>\n",
       "      <td>7270</td>\n",
       "      <td>Femme</td>\n",
       "      <td>J'ai été surprise de voir la \"complicité\" entr...</td>\n",
       "      <td>2015-08-28</td>\n",
       "      <td>Neutre</td>\n",
       "    </tr>\n",
       "  </tbody>\n",
       "</table>\n",
       "<p>11004 rows × 5 columns</p>\n",
       "</div>"
      ],
      "text/plain": [
       "          id  genre                                               text  \\\n",
       "8513    8513  Homme  Cette nuit nous confronte à la solitude des pe...   \n",
       "4215    4215  Femme  Comme son nom l'indique, on s'axe sur le socia...   \n",
       "2018    2018  Femme  J'ai été très bien intégrée par l'équipe que j...   \n",
       "8121    8121  Femme  L'expérience qui m'a le plus marquée est la re...   \n",
       "3902    3902  Homme  Les équipes sont très adaptés au différentes s...   \n",
       "...      ...    ...                                                ...   \n",
       "5191    5191  Homme  - Beaucoup de très très bonnes choses dans le ...   \n",
       "13418  13418  Homme  Cette garde s'est avérée très intéressante : e...   \n",
       "5390    5390  Femme  Et quand enfin ils ont une place, le lendemain...   \n",
       "860      860  Femme  Savoir comment leur parler, comment les aborde...   \n",
       "7270    7270  Femme  J'ai été surprise de voir la \"complicité\" entr...   \n",
       "\n",
       "            date pre_annot  \n",
       "8513  2014-12-07    Neutre  \n",
       "4215  2017-06-23    Neutre  \n",
       "2018  2018-09-19    Neutre  \n",
       "8121  2015-03-02    Neutre  \n",
       "3902  2017-08-09    Neutre  \n",
       "...          ...       ...  \n",
       "5191  2016-10-23    Neutre  \n",
       "13418 2011-07-26    Neutre  \n",
       "5390  2016-09-12    Neutre  \n",
       "860   2019-05-27    Neutre  \n",
       "7270  2015-08-28    Neutre  \n",
       "\n",
       "[11004 rows x 5 columns]"
      ]
     },
     "execution_count": 152,
     "metadata": {},
     "output_type": "execute_result"
    }
   ],
   "source": []
  },
  {
   "cell_type": "code",
   "execution_count": 236,
   "id": "fc16db5c",
   "metadata": {},
   "outputs": [],
   "source": [
    "df_final['pre_annot'] = df_final['pre_annot'].replace({'Négative': 'Négatif', 'Positive': 'Positif'})"
   ]
  },
  {
   "cell_type": "code",
   "execution_count": 247,
   "id": "9db77d1a-4da7-48c8-85dc-2be72539bae1",
   "metadata": {},
   "outputs": [],
   "source": []
  },
  {
   "cell_type": "code",
   "execution_count": null,
   "id": "2fc68701-fa7f-4d49-8310-a6c539a7382d",
   "metadata": {},
   "outputs": [],
   "source": []
  }
 ],
 "metadata": {
  "kernelspec": {
   "display_name": "Python 3 (ipykernel)",
   "language": "python",
   "name": "python3"
  },
  "language_info": {
   "codemirror_mode": {
    "name": "ipython",
    "version": 3
   },
   "file_extension": ".py",
   "mimetype": "text/x-python",
   "name": "python",
   "nbconvert_exporter": "python",
   "pygments_lexer": "ipython3",
   "version": "3.12.1"
  }
 },
 "nbformat": 4,
 "nbformat_minor": 5
}
